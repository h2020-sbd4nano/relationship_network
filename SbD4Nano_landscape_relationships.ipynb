{
 "cells": [
  {
   "cell_type": "code",
   "execution_count": 1,
   "metadata": {},
   "outputs": [],
   "source": [
    "import pandas as pd\n",
    "\n",
    "df = pd.read_csv(\"./SbD4Nano_landscape_relations - Blad2.csv\")"
   ]
  },
  {
   "cell_type": "code",
   "execution_count": 2,
   "metadata": {
    "scrolled": false
   },
   "outputs": [
    {
     "data": {
      "text/html": [
       "<div>\n",
       "<style scoped>\n",
       "    .dataframe tbody tr th:only-of-type {\n",
       "        vertical-align: middle;\n",
       "    }\n",
       "\n",
       "    .dataframe tbody tr th {\n",
       "        vertical-align: top;\n",
       "    }\n",
       "\n",
       "    .dataframe thead th {\n",
       "        text-align: right;\n",
       "    }\n",
       "</style>\n",
       "<table border=\"1\" class=\"dataframe\">\n",
       "  <thead>\n",
       "    <tr style=\"text-align: right;\">\n",
       "      <th></th>\n",
       "      <th>Node_name</th>\n",
       "      <th>Node</th>\n",
       "      <th>IRI</th>\n",
       "      <th>Gracious</th>\n",
       "      <th>Node1</th>\n",
       "      <th>causes</th>\n",
       "      <th>Node2</th>\n",
       "      <th>Cito</th>\n",
       "      <th>Reference</th>\n",
       "    </tr>\n",
       "  </thead>\n",
       "  <tbody>\n",
       "    <tr>\n",
       "      <th>0</th>\n",
       "      <td>N1</td>\n",
       "      <td>core composition</td>\n",
       "      <td>http://purl.bioontology.org/ontology/npo#NPO_1808</td>\n",
       "      <td>gracious:fa7326c4-966e-2b43-ae02-228eeeaf8de6</td>\n",
       "      <td>N11</td>\n",
       "      <td>correlates</td>\n",
       "      <td>N10</td>\n",
       "      <td>containsAssertionFrom</td>\n",
       "      <td>10.1039/d0nr00868k</td>\n",
       "    </tr>\n",
       "    <tr>\n",
       "      <th>1</th>\n",
       "      <td>N2</td>\n",
       "      <td>coating/surface chemistry</td>\n",
       "      <td>http://purl.bioontology.org/ontology/npo#NPO_1823</td>\n",
       "      <td>gracious:0f790f0f-2b26-d346-8756-4ea6181af3c4</td>\n",
       "      <td>N12</td>\n",
       "      <td>correlates</td>\n",
       "      <td>N10</td>\n",
       "      <td>containsAssertionFrom</td>\n",
       "      <td>https://dr.lib.iastate.edu/server/api/core/bit...</td>\n",
       "    </tr>\n",
       "    <tr>\n",
       "      <th>2</th>\n",
       "      <td>N3</td>\n",
       "      <td>dimensionality (shape)</td>\n",
       "      <td>NaN</td>\n",
       "      <td>NaN</td>\n",
       "      <td>N9</td>\n",
       "      <td>correlates</td>\n",
       "      <td>N10</td>\n",
       "      <td>containsAssertionFrom</td>\n",
       "      <td>https://dr.lib.iastate.edu/server/api/core/bit...</td>\n",
       "    </tr>\n",
       "    <tr>\n",
       "      <th>3</th>\n",
       "      <td>N4</td>\n",
       "      <td>polydispersity</td>\n",
       "      <td>http://purl.bioontology.org/ontology/npo#NPO_274</td>\n",
       "      <td>http://www.bigcat.unimaas.nl/sbd4nano/gracious...</td>\n",
       "      <td>N2</td>\n",
       "      <td>correlates</td>\n",
       "      <td>N10</td>\n",
       "      <td>containsAssertionFrom</td>\n",
       "      <td>https://dr.lib.iastate.edu/server/api/core/bit...</td>\n",
       "    </tr>\n",
       "    <tr>\n",
       "      <th>4</th>\n",
       "      <td>N5</td>\n",
       "      <td>diameter</td>\n",
       "      <td>NaN</td>\n",
       "      <td>NaN</td>\n",
       "      <td>N10</td>\n",
       "      <td>correlates</td>\n",
       "      <td>N14</td>\n",
       "      <td>containsAssertionFrom</td>\n",
       "      <td>10.1039/d0nr00868k</td>\n",
       "    </tr>\n",
       "  </tbody>\n",
       "</table>\n",
       "</div>"
      ],
      "text/plain": [
       "  Node_name                       Node  \\\n",
       "0        N1           core composition   \n",
       "1        N2  coating/surface chemistry   \n",
       "2        N3     dimensionality (shape)   \n",
       "3        N4             polydispersity   \n",
       "4        N5                   diameter   \n",
       "\n",
       "                                                 IRI  \\\n",
       "0  http://purl.bioontology.org/ontology/npo#NPO_1808   \n",
       "1  http://purl.bioontology.org/ontology/npo#NPO_1823   \n",
       "2                                                NaN   \n",
       "3   http://purl.bioontology.org/ontology/npo#NPO_274   \n",
       "4                                                NaN   \n",
       "\n",
       "                                            Gracious Node1      causes Node2  \\\n",
       "0      gracious:fa7326c4-966e-2b43-ae02-228eeeaf8de6   N11  correlates   N10   \n",
       "1      gracious:0f790f0f-2b26-d346-8756-4ea6181af3c4   N12  correlates   N10   \n",
       "2                                                NaN   N9   correlates   N10   \n",
       "3  http://www.bigcat.unimaas.nl/sbd4nano/gracious...    N2  correlates   N10   \n",
       "4                                                NaN   N10  correlates   N14   \n",
       "\n",
       "                    Cito                                          Reference  \n",
       "0  containsAssertionFrom                                 10.1039/d0nr00868k  \n",
       "1  containsAssertionFrom  https://dr.lib.iastate.edu/server/api/core/bit...  \n",
       "2  containsAssertionFrom  https://dr.lib.iastate.edu/server/api/core/bit...  \n",
       "3  containsAssertionFrom  https://dr.lib.iastate.edu/server/api/core/bit...  \n",
       "4  containsAssertionFrom                                 10.1039/d0nr00868k  "
      ]
     },
     "execution_count": 2,
     "metadata": {},
     "output_type": "execute_result"
    }
   ],
   "source": [
    "df.head()"
   ]
  },
  {
   "cell_type": "code",
   "execution_count": 3,
   "metadata": {},
   "outputs": [
    {
     "data": {
      "text/plain": [
       "Index(['Node_name', 'Node', 'IRI', 'Gracious', 'Node1', 'causes', 'Node2',\n",
       "       'Cito', 'Reference'],\n",
       "      dtype='object')"
      ]
     },
     "execution_count": 3,
     "metadata": {},
     "output_type": "execute_result"
    }
   ],
   "source": [
    "df.columns"
   ]
  },
  {
   "cell_type": "code",
   "execution_count": 4,
   "metadata": {},
   "outputs": [
    {
     "data": {
      "text/plain": [
       "array(['http://purl.bioontology.org/ontology/npo#NPO_1808',\n",
       "       'http://purl.bioontology.org/ontology/npo#NPO_1823', nan,\n",
       "       'http://purl.bioontology.org/ontology/npo#NPO_274',\n",
       "       'http://purl.bioontology.org/ontology/npo#NPO_895',\n",
       "       'http://purl.bioontology.org/ontology/npo#NPO_1967',\n",
       "       'http://purl.bioontology.org/ontology/npo#NPO_1853',\n",
       "       'http://purl.bioontology.org/ontology/npo#NPO_1955',\n",
       "       'http://purl.org/obo/owl/PATO#PATO_0000117'], dtype=object)"
      ]
     },
     "execution_count": 4,
     "metadata": {},
     "output_type": "execute_result"
    }
   ],
   "source": [
    "df.IRI. unique()"
   ]
  },
  {
   "cell_type": "code",
   "execution_count": 5,
   "metadata": {},
   "outputs": [],
   "source": [
    "node_df = df[['Node_name', 'Node', 'IRI', 'Gracious']]\n",
    "network_df = df[['Node1', 'causes', 'Node2', 'Cito', 'Reference']]"
   ]
  },
  {
   "cell_type": "code",
   "execution_count": 6,
   "metadata": {},
   "outputs": [
    {
     "data": {
      "text/plain": [
       "'core composition'"
      ]
     },
     "execution_count": 6,
     "metadata": {},
     "output_type": "execute_result"
    }
   ],
   "source": [
    "node_df.Node[0]"
   ]
  },
  {
   "cell_type": "code",
   "execution_count": 7,
   "metadata": {},
   "outputs": [
    {
     "name": "stdout",
     "output_type": "stream",
     "text": [
      "  Node_name              Node  \\\n",
      "0        N1  core composition   \n",
      "\n",
      "                                                 IRI  \\\n",
      "0  http://purl.bioontology.org/ontology/npo#NPO_1808   \n",
      "\n",
      "                                        Gracious  \n",
      "0  gracious:fa7326c4-966e-2b43-ae02-228eeeaf8de6  \n",
      "  Node_name    Node  IRI Gracious\n",
      "5        N6  length  NaN      NaN\n"
     ]
    }
   ],
   "source": [
    "testlist=[\"N1\", \"N6\"]\n",
    "\n",
    "for node in testlist:\n",
    "    print(node_df[node_df.Node_name == node])"
   ]
  },
  {
   "cell_type": "code",
   "execution_count": null,
   "metadata": {},
   "outputs": [],
   "source": []
  },
  {
   "cell_type": "code",
   "execution_count": 8,
   "metadata": {},
   "outputs": [],
   "source": [
    "import re\n",
    "from rdflib import Graph, URIRef, Literal, BNode, Namespace\n",
    "from rdflib.namespace import DC, RDFS, FOAF, DCTERMS, VOID, RDF, XSD, OWL\n",
    "# CSVW, DC, DCAT, DCTERMS, DOAP, FOAF, ODRL2, ORG, OWL, \\\n",
    "# PROF, PROV, RDF, RDFS, SDO, SH, SKOS, SOSA, SSN, TIME, \\\n",
    "# VOID, XMLNS, XSD\n",
    "\n",
    "sbd = Namespace(\"https://www.sbd4nano.eu/rdf/#\")\n",
    "sbdbel = Namespace(\"https://www.sbd4nano.eu/bel/#\")\n",
    "ECO = Namespace(\"https://evidenceontology.org/#\")\n",
    "kb = Namespace(\"https://h2020-sbd4nano.github.io/sbd-data-landscape/\")\n",
    "enm = Namespace(\"http://purl.enanomapper.org/onto/\")\n",
    "ncit = Namespace(\"http://purl.obolibrary.org/obo/NCIT\")\n",
    "npo = Namespace(\"http://purl.bioontology.org/ontology/npo#\")\n",
    "pato = Namespace(\"http://purl.org/obo/owl/PATO#\")\n",
    "cito = Namespace(\"http://purl.org/spar/cito/\")"
   ]
  },
  {
   "cell_type": "code",
   "execution_count": 32,
   "metadata": {},
   "outputs": [
    {
     "name": "stdout",
     "output_type": "stream",
     "text": [
      "0\n",
      "1\n",
      "2\n",
      "3\n",
      "4\n",
      "5\n",
      "6\n",
      "7\n",
      "8\n",
      "9\n",
      "10\n",
      "11\n",
      "12\n",
      "13\n",
      "14\n",
      "15\n",
      "16\n",
      "17\n",
      "18\n",
      "19\n",
      "20\n",
      "21\n",
      "22\n",
      "23\n",
      "24\n",
      "25\n",
      "26\n",
      "27\n",
      "28\n",
      "29\n",
      "30\n",
      "31\n",
      "32\n",
      "33\n",
      "34\n",
      "35\n",
      "36\n",
      "37\n",
      "38\n",
      "39\n",
      "40\n",
      "41\n",
      "42\n",
      "43\n",
      "44\n",
      "45\n",
      "46\n",
      "47\n",
      "48\n",
      "49\n",
      "50\n",
      "51\n",
      "52\n",
      "53\n"
     ]
    }
   ],
   "source": [
    "g = Graph()\n",
    "g.bind(\"dc\", DC)\n",
    "g.bind(\"rdfs\", RDFS)\n",
    "g.bind(\"foaf\", FOAF)\n",
    "g.bind(\"dcterms\", DCTERMS)\n",
    "g.bind(\"dc\", DC)\n",
    "g.bind(\"void\", VOID)\n",
    "g.bind(\"rdf\", RDF)\n",
    "g.bind(\"xsd\", XSD)\n",
    "g.bind(\"eco\", ECO)\n",
    "g.bind(\"sbd\", sbd)\n",
    "g.bind(\"sbdbel\", sbdbel)\n",
    "g.bind(\"kb\", kb)\n",
    "g.bind(\"enm\", enm)\n",
    "g.bind(\"ncit\", ncit)\n",
    "g.bind(\"npo\", npo)\n",
    "g.bind(\"pato\", pato)\n",
    "g.bind(\"cito\", cito)\n",
    "\n",
    "source = URIRef(\"https://docs.google.com/spreadsheets/d/18n37M72zQJgfsELIGRj6llEZ44Ao48qGoXWXyPazRD0/edit#gid=760845260\")\n",
    "\n",
    "for i, row in enumerate(network_df.index):\n",
    "    print(i)\n",
    "    selected_row = network_df.loc[row]\n",
    "    relation = URIRef(\"https://h2020-sbd4nano.github.io/sbd-data-landscape/\" + \"CausalAssertion\" + \"_\" + str(i))\n",
    "    cause = BNode()\n",
    "    cause_node = node_df.loc[node_df.Node_name == str(selected_row.Node1).strip()].index\n",
    "    outcome = BNode()\n",
    "    outcome_node = node_df[node_df.Node_name == str(selected_row.Node2).strip()].index\n",
    "    g.add((relation, RDF.type, URIRef(sbd + \"resource\")))\n",
    "    g.add((relation, RDF.type, URIRef(sbd + \"causalAssertion\")))\n",
    "    g.add((relation, DC.source, source))\n",
    "    g.add((relation, cito.containsAssertionFrom, URIRef(str(selected_row.Reference))))\n",
    "    \n",
    "    #cause\n",
    "    g.add((relation, URIRef(sbdbel + \"cause\"), cause))\n",
    "    g.add((cause, DCTERMS.label, Literal(node_df.Node[cause_node[0]])))\n",
    "    g.add((cause, OWL.sameAs, URIRef(str(node_df.IRI[cause_node[0]])))) \n",
    "#     g.add((URIRef(relation + \"_cause\"), OWL.sameAs, Literal(node_df.Gracious[cause_node[0]])))\n",
    "    \n",
    "    #relation\n",
    "    g.add((relation, URIRef(sbdbel + \"relationship\"), URIRef(sbdbel + str(selected_row.causes))))\n",
    "    \n",
    "    #outcome\n",
    "    g.add((relation, URIRef(sbdbel + \"outcome\"), outcome))\n",
    "    g.add((outcome, DCTERMS.label, Literal(node_df.Node[outcome_node[0]])))\n",
    "    g.add((outcome, OWL.sameAs, URIRef(str(node_df.IRI[outcome_node[0]]))))\n",
    "#     g.add((URIRef(relation + \"_outcome\"), OWL.sameAs, Literal(node_df.Gracious[outcome_node[0]])))\n",
    "    \n",
    "g.serialize(format='n3', destination='outp.txt')"
   ]
  },
  {
   "cell_type": "code",
   "execution_count": 11,
   "metadata": {},
   "outputs": [],
   "source": [
    "# <Carbon_Nanoforms_BEL/1> a sbdbel:CausalAssertion ;\n",
    "#     dc:source <https://h2020-sbd4nano.github.io/sbd-data-landscape/wp1/bel_ralph/> ;\n",
    "#     cito:cites <https://doi.org/10.3390/coatings11040414> ;\n",
    "#     sbdbel:hasHypothesis \"graphene oxide nanosheets with a higher number of sheets show more toxicity to human keratinocyte HaCaT cells then less number of sheets.\" ;\n",
    "#     sbdbel:NP [ rdfs:label \"GO sheets\" ;\n",
    "#         sbdbel:hasShapeCategory \"platelets\" ;\n",
    "#         sbdbel:hasConstituent \"graphene oxide\" ; \n",
    "#         sbdbel:term <> ; \n",
    "#         sbdbel:isCoated <>] ;\n",
    "#     sbdbel:cause [ rdfs:label \"Number of sheets\" ; \n",
    "#         sbdbel:termCat \"PC_ASPECT_RATIO_SHAPE\" ; \n",
    "#         sbdbel:term \"EP_NUMBER_OF_SHEETS\"] ;\n",
    "#     sbdbel:relationship sbdbel:negativelyCorrelates ;\n",
    "#     sbdbel:outcome [ rdfs:label \"Cell viability\" ; \n",
    "#         sbdbel:termCat \"HH_CYTOTOXITIY\" ; \n",
    "#         sbdbel:term \"EP_CELL_VIABILITY\"] ;\n",
    "#     sbdbel:cellType \"HaCAT cells\" ."
   ]
  },
  {
   "cell_type": "code",
   "execution_count": null,
   "metadata": {},
   "outputs": [],
   "source": []
  }
 ],
 "metadata": {
  "kernelspec": {
   "display_name": "Python 3",
   "language": "python",
   "name": "python3"
  },
  "language_info": {
   "codemirror_mode": {
    "name": "ipython",
    "version": 3
   },
   "file_extension": ".py",
   "mimetype": "text/x-python",
   "name": "python",
   "nbconvert_exporter": "python",
   "pygments_lexer": "ipython3",
   "version": "3.6.4"
  }
 },
 "nbformat": 4,
 "nbformat_minor": 2
}
